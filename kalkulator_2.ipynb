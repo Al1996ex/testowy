{
 "cells": [
  {
   "cell_type": "code",
   "execution_count": 2,
   "metadata": {},
   "outputs": [
    {
     "data": {
      "application/vnd.jupyter.widget-view+json": {
       "model_id": "12a14bc7b9ad42d096ee1069e58aafc2",
       "version_major": 2,
       "version_minor": 0
      },
      "text/plain": [
       "VBox(children=(HBox(children=(Text(value='', description='Liczba 1:'), Text(value='', description='Liczba 2:')…"
      ]
     },
     "metadata": {},
     "output_type": "display_data"
    }
   ],
   "source": [
    "from ipywidgets import Button, Text, VBox, HBox, Output\n",
    "\n",
    "# Definicje funkcji\n",
    "def add(x, y):\n",
    "    return x + y\n",
    "\n",
    "def subtract(x, y):\n",
    "    return x - y\n",
    "\n",
    "def multiply(x, y):\n",
    "    return x * y\n",
    "\n",
    "def divide(x, y):\n",
    "    if y == 0:\n",
    "        return \"Dzielenie przez zero zabronione!\"\n",
    "    return x / y\n",
    "\n",
    "# Funkcje obsługujące przyciski\n",
    "def on_button_click(operation):\n",
    "    try:\n",
    "        x = float(textbox1.value)\n",
    "        y = float(textbox2.value)\n",
    "        if operation == 'add':\n",
    "            result = add(x, y)\n",
    "        elif operation == 'subtract':\n",
    "            result = subtract(x, y)\n",
    "        elif operation == 'multiply':\n",
    "            result = multiply(x, y)\n",
    "        elif operation == 'divide':\n",
    "            result = divide(x, y)\n",
    "        else:\n",
    "            result = \"Nieznana operacja\"\n",
    "        with output:\n",
    "            output.clear_output(wait=True)\n",
    "            print(result)\n",
    "    except ValueError:\n",
    "        with output:\n",
    "            output.clear_output(wait=True)\n",
    "            print(\"Wprowadź poprawne liczby\")\n",
    "\n",
    "# Tworzenie interfejsu\n",
    "textbox1 = Text(description='Liczba 1:')\n",
    "textbox2 = Text(description='Liczba 2:')\n",
    "add_button = Button(description='Dodaj')\n",
    "subtract_button = Button(description='Odejmij')\n",
    "multiply_button = Button(description='Pomnóż')\n",
    "divide_button = Button(description='Podziel')\n",
    "output = Output()\n",
    "\n",
    "add_button.on_click(lambda x: on_button_click('add'))\n",
    "subtract_button.on_click(lambda x: on_button_click('subtract'))\n",
    "multiply_button.on_click(lambda x: on_button_click('multiply'))\n",
    "divide_button.on_click(lambda x: on_button_click('divide'))\n",
    "\n",
    "VBox([HBox([textbox1, textbox2]),\n",
    "      HBox([add_button, subtract_button, multiply_button, divide_button]),\n",
    "      output])\n"
   ]
  }
 ],
 "metadata": {
  "kernelspec": {
   "display_name": "Python 3",
   "language": "python",
   "name": "python3"
  },
  "language_info": {
   "codemirror_mode": {
    "name": "ipython",
    "version": 3
   },
   "file_extension": ".py",
   "mimetype": "text/x-python",
   "name": "python",
   "nbconvert_exporter": "python",
   "pygments_lexer": "ipython3",
   "version": "3.11.4"
  },
  "orig_nbformat": 4
 },
 "nbformat": 4,
 "nbformat_minor": 2
}
